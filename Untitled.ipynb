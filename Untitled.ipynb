{
 "cells": [
  {
   "cell_type": "code",
   "execution_count": 4,
   "id": "49412395",
   "metadata": {},
   "outputs": [
    {
     "ename": "NameError",
     "evalue": "name 'preprocess' is not defined",
     "output_type": "error",
     "traceback": [
      "\u001b[1;31m---------------------------------------------------------------------------\u001b[0m",
      "\u001b[1;31mNameError\u001b[0m                                 Traceback (most recent call last)",
      "Cell \u001b[1;32mIn[4], line 13\u001b[0m\n\u001b[0;32m     11\u001b[0m \u001b[38;5;28;01mwith\u001b[39;00m \u001b[38;5;28mopen\u001b[39m(train_file_path, \u001b[38;5;124m'\u001b[39m\u001b[38;5;124mr\u001b[39m\u001b[38;5;124m'\u001b[39m, encoding\u001b[38;5;241m=\u001b[39m\u001b[38;5;124m\"\u001b[39m\u001b[38;5;124mutf8\u001b[39m\u001b[38;5;124m\"\u001b[39m) \u001b[38;5;28;01mas\u001b[39;00m f:\n\u001b[0;32m     12\u001b[0m         corpus \u001b[38;5;241m=\u001b[39m json\u001b[38;5;241m.\u001b[39mload(f)\n\u001b[1;32m---> 13\u001b[0m         corpus, _ \u001b[38;5;241m=\u001b[39m \u001b[43mpreprocess\u001b[49m(corpus)\n",
      "\u001b[1;31mNameError\u001b[0m: name 'preprocess' is not defined"
     ]
    }
   ],
   "source": [
    "train_file_path = '/Users/akomarla/OneDrive - NANDPS/Desktop/Repos/lad/examples/data/sanity_ct_train.txt'\n",
    "val_file_path = '/Users/akomarla/OneDrive - NANDPS/Desktop/Repos/lad/examples/data/sanity_ct_val.txt'\n",
    "failed_path = '/Users/akomarla/OneDrive - NANDPS/Desktop/Repos/lad/examples/data/sanity_ct_fail.txt'\n",
    "\n",
    "gen_val_path = './val.txt'\n",
    "gen_train_path = './train.txt'\n",
    "\n",
    "import json\n",
    "\n",
    "# Load a corpus of data for training\n",
    "with open(train_file_path, 'r', encoding=\"utf8\") as f:\n",
    "        corpus = json.load(f)\n",
    "        corpus, _ = preprocess(corpus)"
   ]
  },
  {
   "cell_type": "code",
   "execution_count": null,
   "id": "1aafefcf",
   "metadata": {},
   "outputs": [],
   "source": []
  }
 ],
 "metadata": {
  "kernelspec": {
   "display_name": "Python 3 (ipykernel)",
   "language": "python",
   "name": "python3"
  },
  "language_info": {
   "codemirror_mode": {
    "name": "ipython",
    "version": 3
   },
   "file_extension": ".py",
   "mimetype": "text/x-python",
   "name": "python",
   "nbconvert_exporter": "python",
   "pygments_lexer": "ipython3",
   "version": "3.10.9"
  }
 },
 "nbformat": 4,
 "nbformat_minor": 5
}
